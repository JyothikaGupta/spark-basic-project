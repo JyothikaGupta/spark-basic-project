{
 "cells": [
  {
   "cell_type": "markdown",
   "metadata": {
    "application/vnd.databricks.v1+cell": {
     "cellMetadata": {
      "byteLimit": 2048000,
      "rowLimit": 10000
     },
     "inputWidgets": {},
     "nuid": "9894179e-ba5d-456c-9e1b-acce6ee6d4ae",
     "showTitle": false,
     "tableResultSettingsMap": {},
     "title": ""
    }
   },
   "source": [
    "### Read and process data\n"
   ]
  },
  {
   "cell_type": "code",
   "execution_count": 0,
   "metadata": {
    "application/vnd.databricks.v1+cell": {
     "cellMetadata": {
      "byteLimit": 2048000,
      "rowLimit": 10000
     },
     "inputWidgets": {},
     "nuid": "3a694991-8871-464e-9ed8-e0ce3fba955b",
     "showTitle": false,
     "tableResultSettingsMap": {},
     "title": ""
    }
   },
   "outputs": [
    {
     "output_type": "execute_result",
     "data": {
      "text/html": [
       "\n",
       "            <div>\n",
       "                <p><b>SparkSession - hive</b></p>\n",
       "                \n",
       "        <div>\n",
       "            <p><b>SparkContext</b></p>\n",
       "\n",
       "            <p><a href=\"/?o=1623245533291392#setting/sparkui/0720-132423-au61c68l/driver-1995932690073204203\">Spark UI</a></p>\n",
       "\n",
       "            <dl>\n",
       "              <dt>Version</dt>\n",
       "                <dd><code>v3.5.2</code></dd>\n",
       "              <dt>Master</dt>\n",
       "                <dd><code>local[*, 4]</code></dd>\n",
       "              <dt>AppName</dt>\n",
       "                <dd><code>Databricks Shell</code></dd>\n",
       "            </dl>\n",
       "        </div>\n",
       "        \n",
       "            </div>\n",
       "        "
      ],
      "text/plain": [
       "<pyspark.sql.session.SparkSession at 0x7fa7b39fdb80>"
      ]
     },
     "execution_count": 40,
     "metadata": {},
     "output_type": "execute_result"
    }
   ],
   "source": [
    "spark"
   ]
  },
  {
   "cell_type": "code",
   "execution_count": 0,
   "metadata": {
    "application/vnd.databricks.v1+cell": {
     "cellMetadata": {
      "byteLimit": 2048000,
      "rowLimit": 10000
     },
     "inputWidgets": {},
     "nuid": "6a80341f-e792-4729-9754-2303de144e73",
     "showTitle": false,
     "tableResultSettingsMap": {},
     "title": ""
    }
   },
   "outputs": [],
   "source": [
    "from pyspark.sql import SparkSession\n",
    "spark=SparkSession.builder.appName(\"spark_project\").getOrCreate()\n",
    "\n"
   ]
  },
  {
   "cell_type": "code",
   "execution_count": 0,
   "metadata": {
    "application/vnd.databricks.v1+cell": {
     "cellMetadata": {
      "byteLimit": 2048000,
      "rowLimit": 10000
     },
     "inputWidgets": {},
     "nuid": "0cfeb070-31a6-4bca-9dab-4cc04bed0870",
     "showTitle": false,
     "tableResultSettingsMap": {},
     "title": ""
    }
   },
   "outputs": [],
   "source": [
    "df=spark.read.format(\"csv\").option(\"header\",\"true\").option(\"inferSchema\",\"true\").load(\"/FileStore/tables/first_100_customers.csv\")\n"
   ]
  },
  {
   "cell_type": "code",
   "execution_count": 0,
   "metadata": {
    "application/vnd.databricks.v1+cell": {
     "cellMetadata": {
      "byteLimit": 2048000,
      "rowLimit": 10000
     },
     "inputWidgets": {},
     "nuid": "32cae5b6-85af-4bf9-889e-2aa7efdf359a",
     "showTitle": false,
     "tableResultSettingsMap": {},
     "title": ""
    }
   },
   "outputs": [
    {
     "output_type": "stream",
     "name": "stdout",
     "output_type": "stream",
     "text": [
      "+-----------+----------+---------+-----------+-------+-----------------+---------+\n|customer_id|      name|     city|      state|country|registration_date|is_active|\n+-----------+----------+---------+-----------+-------+-----------------+---------+\n|          0|Customer_0|     Pune|Maharashtra|  India|       2023-06-29|    false|\n|          1|Customer_1|Bangalore| Tamil Nadu|  India|       2023-12-07|     true|\n|          2|Customer_2|Hyderabad|    Gujarat|  India|       2023-10-27|     true|\n|          3|Customer_3|Bangalore|  Karnataka|  India|       2023-10-17|    false|\n|          4|Customer_4|Ahmedabad|  Karnataka|  India|       2023-03-14|    false|\n+-----------+----------+---------+-----------+-------+-----------------+---------+\nonly showing top 5 rows\n"
     ]
    }
   ],
   "source": [
    "df.show(5)"
   ]
  },
  {
   "cell_type": "code",
   "execution_count": 0,
   "metadata": {
    "application/vnd.databricks.v1+cell": {
     "cellMetadata": {
      "byteLimit": 2048000,
      "rowLimit": 10000
     },
     "inputWidgets": {},
     "nuid": "5aa46b0b-b7b7-46da-bb64-8f3cdd1dea50",
     "showTitle": false,
     "tableResultSettingsMap": {},
     "title": ""
    }
   },
   "outputs": [
    {
     "output_type": "stream",
     "name": "stdout",
     "output_type": "stream",
     "text": [
      "root\n |-- customer_id: integer (nullable = true)\n |-- name: string (nullable = true)\n |-- city: string (nullable = true)\n |-- state: string (nullable = true)\n |-- country: string (nullable = true)\n |-- registration_date: date (nullable = true)\n |-- is_active: boolean (nullable = true)\n\n"
     ]
    }
   ],
   "source": [
    "df.printSchema()"
   ]
  },
  {
   "cell_type": "markdown",
   "metadata": {
    "application/vnd.databricks.v1+cell": {
     "cellMetadata": {
      "byteLimit": 2048000,
      "rowLimit": 10000
     },
     "inputWidgets": {},
     "nuid": "8d7e4772-b459-4809-bac9-fb97b526b426",
     "showTitle": false,
     "tableResultSettingsMap": {},
     "title": ""
    }
   },
   "source": [
    "### PROCESSING DATA"
   ]
  },
  {
   "cell_type": "code",
   "execution_count": 0,
   "metadata": {
    "application/vnd.databricks.v1+cell": {
     "cellMetadata": {
      "byteLimit": 2048000,
      "rowLimit": 10000
     },
     "inputWidgets": {},
     "nuid": "c437555b-6abe-4a91-9180-bf3d4ae5d892",
     "showTitle": false,
     "tableResultSettingsMap": {},
     "title": ""
    }
   },
   "outputs": [],
   "source": [
    "from pyspark.sql.functions import *\n",
    "df=df.withColumn(\"registration_date\",to_timestamp(\"registration_date\"))"
   ]
  },
  {
   "cell_type": "code",
   "execution_count": 0,
   "metadata": {
    "application/vnd.databricks.v1+cell": {
     "cellMetadata": {
      "byteLimit": 2048000,
      "rowLimit": 10000
     },
     "inputWidgets": {},
     "nuid": "7282fd01-39e3-46b5-9549-5d9a68753542",
     "showTitle": false,
     "tableResultSettingsMap": {},
     "title": ""
    }
   },
   "outputs": [
    {
     "output_type": "stream",
     "name": "stdout",
     "output_type": "stream",
     "text": [
      "root\n |-- customer_id: integer (nullable = true)\n |-- name: string (nullable = true)\n |-- city: string (nullable = true)\n |-- state: string (nullable = true)\n |-- country: string (nullable = true)\n |-- registration_date: timestamp (nullable = true)\n |-- is_active: boolean (nullable = true)\n\n"
     ]
    }
   ],
   "source": [
    "df.printSchema()"
   ]
  },
  {
   "cell_type": "code",
   "execution_count": 0,
   "metadata": {
    "application/vnd.databricks.v1+cell": {
     "cellMetadata": {
      "byteLimit": 2048000,
      "rowLimit": 10000
     },
     "inputWidgets": {},
     "nuid": "82b020d1-59d4-4702-bf07-ce0a57bcdabb",
     "showTitle": false,
     "tableResultSettingsMap": {},
     "title": ""
    }
   },
   "outputs": [],
   "source": [
    "df=df.withColumn(\"registration_date\",to_date(\"registration_date\"))"
   ]
  },
  {
   "cell_type": "code",
   "execution_count": 0,
   "metadata": {
    "application/vnd.databricks.v1+cell": {
     "cellMetadata": {
      "byteLimit": 2048000,
      "rowLimit": 10000
     },
     "inputWidgets": {},
     "nuid": "abb56233-b2f4-40ba-83bf-6d4132c78e94",
     "showTitle": false,
     "tableResultSettingsMap": {},
     "title": ""
    }
   },
   "outputs": [
    {
     "output_type": "stream",
     "name": "stdout",
     "output_type": "stream",
     "text": [
      "root\n |-- customer_id: integer (nullable = true)\n |-- name: string (nullable = true)\n |-- city: string (nullable = true)\n |-- state: string (nullable = true)\n |-- country: string (nullable = true)\n |-- registration_date: date (nullable = true)\n |-- is_active: boolean (nullable = true)\n\n"
     ]
    }
   ],
   "source": [
    "df.printSchema()"
   ]
  },
  {
   "cell_type": "code",
   "execution_count": 0,
   "metadata": {
    "application/vnd.databricks.v1+cell": {
     "cellMetadata": {
      "byteLimit": 2048000,
      "rowLimit": 10000
     },
     "inputWidgets": {},
     "nuid": "db81218b-de3a-49a7-baae-7e7bc2ea872e",
     "showTitle": false,
     "tableResultSettingsMap": {},
     "title": ""
    }
   },
   "outputs": [
    {
     "output_type": "execute_result",
     "data": {
      "text/plain": [
       "DataFrame[customer_id: int, name: string, city: string, state: string, country: string, registration_date: date, is_active: boolean]"
      ]
     },
     "execution_count": 49,
     "metadata": {},
     "output_type": "execute_result"
    }
   ],
   "source": [
    "df.fillna({'city':'Unknown','state':'Unknown'})"
   ]
  },
  {
   "cell_type": "code",
   "execution_count": 0,
   "metadata": {
    "application/vnd.databricks.v1+cell": {
     "cellMetadata": {
      "byteLimit": 2048000,
      "rowLimit": 10000
     },
     "inputWidgets": {},
     "nuid": "01d18f4f-e290-406d-bd0b-4bff8d31f480",
     "showTitle": false,
     "tableResultSettingsMap": {},
     "title": ""
    }
   },
   "outputs": [
    {
     "output_type": "stream",
     "name": "stdout",
     "output_type": "stream",
     "text": [
      "+-----------+----------+---------+-----------+-------+-----------------+---------+\n|customer_id|      name|     city|      state|country|registration_date|is_active|\n+-----------+----------+---------+-----------+-------+-----------------+---------+\n|          0|Customer_0|     Pune|Maharashtra|  India|       2023-06-29|    false|\n|          1|Customer_1|Bangalore| Tamil Nadu|  India|       2023-12-07|     true|\n|          2|Customer_2|Hyderabad|    Gujarat|  India|       2023-10-27|     true|\n|          3|Customer_3|Bangalore|  Karnataka|  India|       2023-10-17|    false|\n|          4|Customer_4|Ahmedabad|  Karnataka|  India|       2023-03-14|    false|\n+-----------+----------+---------+-----------+-------+-----------------+---------+\nonly showing top 5 rows\n"
     ]
    }
   ],
   "source": [
    "df.show(5)"
   ]
  },
  {
   "cell_type": "code",
   "execution_count": 0,
   "metadata": {
    "application/vnd.databricks.v1+cell": {
     "cellMetadata": {
      "byteLimit": 2048000,
      "rowLimit": 10000
     },
     "inputWidgets": {},
     "nuid": "5a8d95b0-06b4-4f87-8d07-91d666d39775",
     "showTitle": false,
     "tableResultSettingsMap": {},
     "title": ""
    }
   },
   "outputs": [],
   "source": [
    "df=df.withColumn(\"registration_year\",year(col(\"registration_date\")))"
   ]
  },
  {
   "cell_type": "code",
   "execution_count": 0,
   "metadata": {
    "application/vnd.databricks.v1+cell": {
     "cellMetadata": {
      "byteLimit": 2048000,
      "rowLimit": 10000
     },
     "inputWidgets": {},
     "nuid": "f2c724ff-fe32-4c7a-9aa0-d701d308ba79",
     "showTitle": false,
     "tableResultSettingsMap": {},
     "title": ""
    }
   },
   "outputs": [
    {
     "output_type": "stream",
     "name": "stdout",
     "output_type": "stream",
     "text": [
      "+-----------+----------+---------+-----------+-------+-----------------+---------+-----------------+\n|customer_id|      name|     city|      state|country|registration_date|is_active|registration_year|\n+-----------+----------+---------+-----------+-------+-----------------+---------+-----------------+\n|          0|Customer_0|     Pune|Maharashtra|  India|       2023-06-29|    false|             2023|\n|          1|Customer_1|Bangalore| Tamil Nadu|  India|       2023-12-07|     true|             2023|\n|          2|Customer_2|Hyderabad|    Gujarat|  India|       2023-10-27|     true|             2023|\n|          3|Customer_3|Bangalore|  Karnataka|  India|       2023-10-17|    false|             2023|\n|          4|Customer_4|Ahmedabad|  Karnataka|  India|       2023-03-14|    false|             2023|\n+-----------+----------+---------+-----------+-------+-----------------+---------+-----------------+\nonly showing top 5 rows\n"
     ]
    }
   ],
   "source": [
    "df.show(5)"
   ]
  },
  {
   "cell_type": "code",
   "execution_count": 0,
   "metadata": {
    "application/vnd.databricks.v1+cell": {
     "cellMetadata": {
      "byteLimit": 2048000,
      "rowLimit": 10000
     },
     "inputWidgets": {},
     "nuid": "96820197-25a0-492f-9d0b-6b9ee1f133c7",
     "showTitle": false,
     "tableResultSettingsMap": {},
     "title": ""
    }
   },
   "outputs": [
    {
     "output_type": "stream",
     "name": "stdout",
     "output_type": "stream",
     "text": [
      "+---------+\n|     city|\n+---------+\n|Bangalore|\n|  Chennai|\n|   Mumbai|\n|Ahmedabad|\n|  Kolkata|\n|     Pune|\n|    Delhi|\n|Hyderabad|\n+---------+\n\n"
     ]
    }
   ],
   "source": [
    "#unique cities\n",
    "df.select(col(\"city\")).distinct().show()"
   ]
  },
  {
   "cell_type": "code",
   "execution_count": 0,
   "metadata": {
    "application/vnd.databricks.v1+cell": {
     "cellMetadata": {
      "byteLimit": 2048000,
      "rowLimit": 10000
     },
     "inputWidgets": {},
     "nuid": "7f6d3341-9c2f-4433-b250-e3f87532cddb",
     "showTitle": false,
     "tableResultSettingsMap": {},
     "title": ""
    }
   },
   "outputs": [
    {
     "output_type": "execute_result",
     "data": {
      "text/plain": [
       "8"
      ]
     },
     "execution_count": 54,
     "metadata": {},
     "output_type": "execute_result"
    }
   ],
   "source": [
    "result=df.select(countDistinct(\"city\")).collect()\n",
    "result[0][0]"
   ]
  },
  {
   "cell_type": "code",
   "execution_count": 0,
   "metadata": {
    "application/vnd.databricks.v1+cell": {
     "cellMetadata": {
      "byteLimit": 2048000,
      "rowLimit": 10000
     },
     "inputWidgets": {},
     "nuid": "d318ae80-d663-4e7e-9c53-85846d56ace5",
     "showTitle": false,
     "tableResultSettingsMap": {},
     "title": ""
    }
   },
   "outputs": [
    {
     "output_type": "stream",
     "name": "stdout",
     "output_type": "stream",
     "text": [
      "+-------+-----------+-----+\n|   city|      state|count|\n+-------+-----------+-----+\n|   Pune|  Telangana|    6|\n|Kolkata|      Delhi|    5|\n|   Pune| Tamil Nadu|    4|\n|Kolkata|    Gujarat|    4|\n|Chennai|Maharashtra|    4|\n+-------+-----------+-----+\nonly showing top 5 rows\n"
     ]
    }
   ],
   "source": [
    "df.groupBy(\"city\",\"state\").count().orderBy(col(\"count\").desc()).show(5)\n"
   ]
  },
  {
   "cell_type": "code",
   "execution_count": 0,
   "metadata": {
    "application/vnd.databricks.v1+cell": {
     "cellMetadata": {
      "byteLimit": 2048000,
      "rowLimit": 10000
     },
     "inputWidgets": {},
     "nuid": "8cd43928-7060-4dc3-bdc4-57f047a21971",
     "showTitle": false,
     "tableResultSettingsMap": {},
     "title": ""
    }
   },
   "outputs": [
    {
     "output_type": "stream",
     "name": "stdout",
     "output_type": "stream",
     "text": [
      "+-----------+-----+----+\n|      state|false|true|\n+-----------+-----+----+\n|  Karnataka|   10|   6|\n| Tamil Nadu|    4|  11|\n|    Gujarat|    7|  11|\n|      Delhi|    6|   4|\n|  Telangana|    4|  12|\n|Maharashtra|    8|   3|\n|West Bengal|    7|   6|\n+-----------+-----+----+\n\n"
     ]
    }
   ],
   "source": [
    "#In PySpark, a pivot table is used to transform rows into columns, just like in Excel or Pandas.It helps you summarize, group, and reshape your data for analysis \n",
    "df.groupBy('state').pivot('is_active').count().show()"
   ]
  },
  {
   "cell_type": "code",
   "execution_count": 0,
   "metadata": {
    "application/vnd.databricks.v1+cell": {
     "cellMetadata": {
      "byteLimit": 2048000,
      "rowLimit": 10000
     },
     "inputWidgets": {},
     "nuid": "92bc0436-f845-4e2a-872a-890c9ed16850",
     "showTitle": false,
     "tableResultSettingsMap": {},
     "title": ""
    }
   },
   "outputs": [
    {
     "output_type": "stream",
     "name": "stdout",
     "output_type": "stream",
     "text": [
      "+-----------+---------+-----------+----+----------+----------+\n|       name|     city|      state|rank|dense_rank|row_number|\n+-----------+---------+-----------+----+----------+----------+\n|Customer_61|Hyderabad|      Delhi|   1|         1|         1|\n|Customer_56|    Delhi|  Karnataka|   2|         2|         2|\n| Customer_7|Ahmedabad|West Bengal|   3|         3|         3|\n|Customer_71|   Mumbai|West Bengal|   4|         4|         4|\n|Customer_39|     Pune| Tamil Nadu|   5|         5|         5|\n+-----------+---------+-----------+----+----------+----------+\nonly showing top 5 rows\n"
     ]
    }
   ],
   "source": [
    "#window function\n",
    "from pyspark.sql.window import Window\n",
    "window_spec=Window.partitionBy('country').orderBy(col('registration_date').desc())\n",
    "\n",
    "rank_result=df.withColumn('rank',rank().over(window_spec)).withColumn('dense_rank',dense_rank().over(window_spec)).withColumn('row_number',row_number().over(window_spec))\n",
    "\n",
    "rank_result.select('name','city','state','rank','dense_rank','row_number').show(5)"
   ]
  },
  {
   "cell_type": "code",
   "execution_count": 0,
   "metadata": {
    "application/vnd.databricks.v1+cell": {
     "cellMetadata": {
      "byteLimit": 2048000,
      "rowLimit": 10000
     },
     "inputWidgets": {},
     "nuid": "ef6275af-2116-4828-9c9f-def5d0fe4f42",
     "showTitle": false,
     "tableResultSettingsMap": {},
     "title": ""
    }
   },
   "outputs": [
    {
     "output_type": "execute_result",
     "data": {
      "text/plain": [
       "53"
      ]
     },
     "execution_count": 59,
     "metadata": {},
     "output_type": "execute_result"
    }
   ],
   "source": [
    "df_recent_customers=df.filter(col(\"registration_date\")>lit('2023-07-11'))\n",
    "df_recent_customers.count()"
   ]
  },
  {
   "cell_type": "code",
   "execution_count": 0,
   "metadata": {
    "application/vnd.databricks.v1+cell": {
     "cellMetadata": {
      "byteLimit": 2048000,
      "rowLimit": 10000
     },
     "inputWidgets": {},
     "nuid": "8ff62584-7053-4fc5-9546-33adf7d704f8",
     "showTitle": false,
     "tableResultSettingsMap": {},
     "title": ""
    }
   },
   "outputs": [],
   "source": [
    "#oldest and newest cusotmer per city\n",
    "result=df.groupBy('city').agg(min('registration_date').alias('oldest'),max('registration_date').alias('newest'))\n",
    "\n"
   ]
  },
  {
   "cell_type": "markdown",
   "metadata": {
    "application/vnd.databricks.v1+cell": {
     "cellMetadata": {
      "byteLimit": 2048000,
      "rowLimit": 10000
     },
     "inputWidgets": {},
     "nuid": "6acaab9f-692a-407e-aa30-3cd7de80899f",
     "showTitle": false,
     "tableResultSettingsMap": {},
     "title": ""
    }
   },
   "source": [
    "### JOINING"
   ]
  },
  {
   "cell_type": "code",
   "execution_count": 0,
   "metadata": {
    "application/vnd.databricks.v1+cell": {
     "cellMetadata": {
      "byteLimit": 2048000,
      "rowLimit": 10000
     },
     "inputWidgets": {},
     "nuid": "76cb3ca2-773b-45c9-9f96-f1a5208d8d7d",
     "showTitle": false,
     "tableResultSettingsMap": {},
     "title": ""
    }
   },
   "outputs": [
    {
     "output_type": "stream",
     "name": "stdout",
     "output_type": "stream",
     "text": [
      "+--------+-----------+----------+-----------------+---------+\n|order_id|customer_id|order_date|     total_amount|   status|\n+--------+-----------+----------+-----------------+---------+\n|       0|       3692|2024-09-03|547.7160076008001|  Shipped|\n|       1|      11055|2024-08-10|577.8942599188381|  Pending|\n|       2|       6963|2024-08-22|484.2085562764487|  Pending|\n|       3|      13268|2024-09-01|366.3286882431848|Cancelled|\n|       4|       1131|2024-08-09|896.9588380686909|  Pending|\n+--------+-----------+----------+-----------------+---------+\nonly showing top 5 rows\n"
     ]
    }
   ],
   "source": [
    "orders=spark.read.format(\"csv\").option(\"header\",\"true\").option(\"inferSchema\",\"true\").load(\"/FileStore/tables/orders.csv\")\n",
    "\n",
    "orders.show(5)"
   ]
  },
  {
   "cell_type": "code",
   "execution_count": 0,
   "metadata": {
    "application/vnd.databricks.v1+cell": {
     "cellMetadata": {
      "byteLimit": 2048000,
      "rowLimit": 10000
     },
     "inputWidgets": {},
     "nuid": "5142c29f-067b-4fd1-8488-8b032d6a119b",
     "showTitle": false,
     "tableResultSettingsMap": {},
     "title": ""
    }
   },
   "outputs": [
    {
     "output_type": "stream",
     "name": "stdout",
     "output_type": "stream",
     "text": [
      "root\n |-- order_id: integer (nullable = true)\n |-- customer_id: integer (nullable = true)\n |-- order_date: date (nullable = true)\n |-- total_amount: double (nullable = true)\n |-- status: string (nullable = true)\n\n"
     ]
    }
   ],
   "source": [
    "orders.printSchema()"
   ]
  },
  {
   "cell_type": "code",
   "execution_count": 0,
   "metadata": {
    "application/vnd.databricks.v1+cell": {
     "cellMetadata": {
      "byteLimit": 2048000,
      "rowLimit": 10000
     },
     "inputWidgets": {},
     "nuid": "43d584be-1481-4440-8bc2-1b520bd4b736",
     "showTitle": false,
     "tableResultSettingsMap": {},
     "title": ""
    }
   },
   "outputs": [],
   "source": [
    "customers_orders_df=df.join(orders,'customer_id','inner')"
   ]
  },
  {
   "cell_type": "code",
   "execution_count": 0,
   "metadata": {
    "application/vnd.databricks.v1+cell": {
     "cellMetadata": {
      "byteLimit": 2048000,
      "rowLimit": 10000
     },
     "inputWidgets": {},
     "nuid": "f731ae68-7074-4378-8b3a-184b37eee1ce",
     "showTitle": false,
     "tableResultSettingsMap": {},
     "title": ""
    }
   },
   "outputs": [
    {
     "output_type": "execute_result",
     "data": {
      "text/plain": [
       "91"
      ]
     },
     "execution_count": 64,
     "metadata": {},
     "output_type": "execute_result"
    }
   ],
   "source": [
    "customers_orders_df.count()"
   ]
  },
  {
   "cell_type": "code",
   "execution_count": 0,
   "metadata": {
    "application/vnd.databricks.v1+cell": {
     "cellMetadata": {
      "byteLimit": 2048000,
      "rowLimit": 10000
     },
     "inputWidgets": {},
     "nuid": "184198fc-4001-46c7-9bd0-7d64720d70f4",
     "showTitle": false,
     "tableResultSettingsMap": {},
     "title": ""
    }
   },
   "outputs": [
    {
     "output_type": "stream",
     "name": "stdout",
     "output_type": "stream",
     "text": [
      "+-----------+-----------------+\n|customer_id|sum(total_amount)|\n+-----------+-----------------+\n|         85|954.1298333153007|\n|         53|972.4425845781869|\n|         78|263.8754446578965|\n|         34|876.3120853159711|\n|         28|528.7985442876674|\n+-----------+-----------------+\nonly showing top 5 rows\n"
     ]
    }
   ],
   "source": [
    "#Total ORder per Customer\n",
    "customers_orders_count=customers_orders_df.groupby('customer_id').agg(sum('total_amount'))\n",
    "customers_orders_count.show(5)"
   ]
  },
  {
   "cell_type": "code",
   "execution_count": 0,
   "metadata": {
    "application/vnd.databricks.v1+cell": {
     "cellMetadata": {
      "byteLimit": 2048000,
      "rowLimit": 10000
     },
     "inputWidgets": {},
     "nuid": "974c40c9-0ea1-4f0c-9dc2-d370b1e1e3b1",
     "showTitle": false,
     "tableResultSettingsMap": {},
     "title": ""
    }
   },
   "outputs": [
    {
     "output_type": "stream",
     "name": "stdout",
     "output_type": "stream",
     "text": [
      "+---------+-----+\n|   status|count|\n+---------+-----+\n|  Shipped|   18|\n|Cancelled|   30|\n|Delivered|   19|\n|  Pending|   24|\n+---------+-----+\n\n"
     ]
    }
   ],
   "source": [
    "#order by status\n",
    "customer_order_status=customers_orders_df.groupby('status').count()\n",
    "customer_order_status.show()"
   ]
  },
  {
   "cell_type": "code",
   "execution_count": 0,
   "metadata": {
    "application/vnd.databricks.v1+cell": {
     "cellMetadata": {
      "byteLimit": 2048000,
      "rowLimit": 10000
     },
     "inputWidgets": {},
     "nuid": "6e85df52-4fcf-4a91-b3cb-4aee2bca0b54",
     "showTitle": false,
     "tableResultSettingsMap": {
      "0": {
       "dataGridStateBlob": "{\"version\":1,\"tableState\":{\"columnPinning\":{\"left\":[\"#row_number#\"],\"right\":[]},\"columnSizing\":{},\"columnVisibility\":{}},\"settings\":{\"columns\":{}},\"syncTimestamp\":1753081224390}",
       "filterBlob": null,
       "queryPlanFiltersBlob": null,
       "tableResultIndex": 0
      }
     },
     "title": ""
    }
   },
   "outputs": [
    {
     "output_type": "display_data",
     "data": {
      "text/html": [
       "<style scoped>\n",
       "  .table-result-container {\n",
       "    max-height: 300px;\n",
       "    overflow: auto;\n",
       "  }\n",
       "  table, th, td {\n",
       "    border: 1px solid black;\n",
       "    border-collapse: collapse;\n",
       "  }\n",
       "  th, td {\n",
       "    padding: 5px;\n",
       "  }\n",
       "  th {\n",
       "    text-align: left;\n",
       "  }\n",
       "</style><div class='table-result-container'><table class='table-result'><thead style='background-color: white'><tr><th>customer_id</th><th>name</th><th>city</th><th>state</th><th>country</th><th>registration_date</th><th>is_active</th><th>registration_year</th><th>order_id</th><th>order_date</th><th>total_amount</th><th>status</th><th>registration_month</th><th>order_month</th></tr></thead><tbody><tr><td>68</td><td>Customer_68</td><td>Kolkata</td><td>Gujarat</td><td>India</td><td>2023-07-17</td><td>false</td><td>2023</td><td>10</td><td>2024-02-01</td><td>250.90701173471632</td><td>Pending</td><td>7</td><td>2</td></tr><tr><td>7</td><td>Customer_7</td><td>Ahmedabad</td><td>West Bengal</td><td>India</td><td>2023-12-28</td><td>true</td><td>2023</td><td>139</td><td>2024-07-10</td><td>546.6384666319628</td><td>Delivered</td><td>12</td><td>7</td></tr><tr><td>18</td><td>Customer_18</td><td>Pune</td><td>Delhi</td><td>India</td><td>2023-10-04</td><td>true</td><td>2023</td><td>258</td><td>2024-04-12</td><td>554.3177613815784</td><td>Cancelled</td><td>10</td><td>4</td></tr><tr><td>17</td><td>Customer_17</td><td>Hyderabad</td><td>West Bengal</td><td>India</td><td>2023-08-21</td><td>false</td><td>2023</td><td>295</td><td>2024-08-28</td><td>420.56545757666987</td><td>Cancelled</td><td>8</td><td>8</td></tr><tr><td>38</td><td>Customer_38</td><td>Bangalore</td><td>Telangana</td><td>India</td><td>2023-09-26</td><td>false</td><td>2023</td><td>415</td><td>2024-12-30</td><td>90.01453303201006</td><td>Cancelled</td><td>9</td><td>12</td></tr><tr><td>47</td><td>Customer_47</td><td>Kolkata</td><td>Telangana</td><td>India</td><td>2023-11-03</td><td>true</td><td>2023</td><td>418</td><td>2024-01-22</td><td>972.4383759704513</td><td>Pending</td><td>11</td><td>1</td></tr><tr><td>95</td><td>Customer_95</td><td>Mumbai</td><td>Karnataka</td><td>India</td><td>2023-09-29</td><td>true</td><td>2023</td><td>861</td><td>2024-11-03</td><td>694.9897335718198</td><td>Shipped</td><td>9</td><td>11</td></tr><tr><td>38</td><td>Customer_38</td><td>Bangalore</td><td>Telangana</td><td>India</td><td>2023-09-26</td><td>false</td><td>2023</td><td>930</td><td>2024-07-20</td><td>107.49581322437737</td><td>Shipped</td><td>9</td><td>7</td></tr><tr><td>26</td><td>Customer_26</td><td>Delhi</td><td>Delhi</td><td>India</td><td>2023-03-22</td><td>true</td><td>2023</td><td>990</td><td>2024-03-09</td><td>473.5525685203318</td><td>Pending</td><td>3</td><td>3</td></tr><tr><td>40</td><td>Customer_40</td><td>Pune</td><td>West Bengal</td><td>India</td><td>2023-01-15</td><td>false</td><td>2023</td><td>1273</td><td>2024-12-01</td><td>49.75964706636384</td><td>Cancelled</td><td>1</td><td>12</td></tr><tr><td>33</td><td>Customer_33</td><td>Mumbai</td><td>West Bengal</td><td>India</td><td>2023-09-11</td><td>false</td><td>2023</td><td>1323</td><td>2024-12-24</td><td>804.1219373031034</td><td>Delivered</td><td>9</td><td>12</td></tr><tr><td>60</td><td>Customer_60</td><td>Mumbai</td><td>Tamil Nadu</td><td>India</td><td>2023-12-01</td><td>true</td><td>2023</td><td>1371</td><td>2024-04-05</td><td>57.26730920831517</td><td>Cancelled</td><td>12</td><td>4</td></tr><tr><td>88</td><td>Customer_88</td><td>Pune</td><td>Telangana</td><td>India</td><td>2023-06-15</td><td>true</td><td>2023</td><td>1447</td><td>2024-08-26</td><td>195.81827600017834</td><td>Pending</td><td>6</td><td>8</td></tr><tr><td>91</td><td>Customer_91</td><td>Mumbai</td><td>Telangana</td><td>India</td><td>2023-01-02</td><td>false</td><td>2023</td><td>1567</td><td>2024-01-25</td><td>90.73002793436947</td><td>Delivered</td><td>1</td><td>1</td></tr><tr><td>11</td><td>Customer_11</td><td>Delhi</td><td>West Bengal</td><td>India</td><td>2023-08-02</td><td>false</td><td>2023</td><td>1759</td><td>2024-02-20</td><td>155.8514507722548</td><td>Pending</td><td>8</td><td>2</td></tr><tr><td>29</td><td>Customer_29</td><td>Delhi</td><td>Gujarat</td><td>India</td><td>2023-05-28</td><td>false</td><td>2023</td><td>1992</td><td>2024-05-18</td><td>13.06685865215596</td><td>Shipped</td><td>5</td><td>5</td></tr><tr><td>24</td><td>Customer_24</td><td>Kolkata</td><td>Karnataka</td><td>India</td><td>2023-03-06</td><td>false</td><td>2023</td><td>2222</td><td>2024-09-29</td><td>613.4205507312591</td><td>Shipped</td><td>3</td><td>9</td></tr><tr><td>4</td><td>Customer_4</td><td>Ahmedabad</td><td>Karnataka</td><td>India</td><td>2023-03-14</td><td>false</td><td>2023</td><td>2228</td><td>2024-11-23</td><td>512.2135003327533</td><td>Delivered</td><td>3</td><td>11</td></tr><tr><td>75</td><td>Customer_75</td><td>Hyderabad</td><td>Telangana</td><td>India</td><td>2023-11-05</td><td>true</td><td>2023</td><td>2528</td><td>2024-05-03</td><td>479.58346578271323</td><td>Delivered</td><td>11</td><td>5</td></tr><tr><td>61</td><td>Customer_61</td><td>Hyderabad</td><td>Delhi</td><td>India</td><td>2023-12-31</td><td>false</td><td>2023</td><td>2610</td><td>2024-07-09</td><td>535.0245790483864</td><td>Delivered</td><td>12</td><td>7</td></tr><tr><td>49</td><td>Customer_49</td><td>Delhi</td><td>Gujarat</td><td>India</td><td>2023-04-16</td><td>true</td><td>2023</td><td>2790</td><td>2024-11-09</td><td>978.8309331372757</td><td>Cancelled</td><td>4</td><td>11</td></tr><tr><td>2</td><td>Customer_2</td><td>Hyderabad</td><td>Gujarat</td><td>India</td><td>2023-10-27</td><td>true</td><td>2023</td><td>2859</td><td>2024-10-12</td><td>345.01571719332037</td><td>Cancelled</td><td>10</td><td>10</td></tr><tr><td>95</td><td>Customer_95</td><td>Mumbai</td><td>Karnataka</td><td>India</td><td>2023-09-29</td><td>true</td><td>2023</td><td>3572</td><td>2024-12-05</td><td>842.5969495728151</td><td>Cancelled</td><td>9</td><td>12</td></tr><tr><td>93</td><td>Customer_93</td><td>Pune</td><td>West Bengal</td><td>India</td><td>2023-09-30</td><td>false</td><td>2023</td><td>3600</td><td>2024-05-29</td><td>536.6403474690279</td><td>Pending</td><td>9</td><td>5</td></tr><tr><td>11</td><td>Customer_11</td><td>Delhi</td><td>West Bengal</td><td>India</td><td>2023-08-02</td><td>false</td><td>2023</td><td>3774</td><td>2024-06-11</td><td>512.8523795606843</td><td>Delivered</td><td>8</td><td>6</td></tr><tr><td>10</td><td>Customer_10</td><td>Pune</td><td>Gujarat</td><td>India</td><td>2023-08-05</td><td>true</td><td>2023</td><td>4061</td><td>2024-12-10</td><td>961.1187353643182</td><td>Cancelled</td><td>8</td><td>12</td></tr><tr><td>32</td><td>Customer_32</td><td>Delhi</td><td>Telangana</td><td>India</td><td>2023-05-15</td><td>false</td><td>2023</td><td>4108</td><td>2024-07-09</td><td>451.49709067715577</td><td>Delivered</td><td>5</td><td>7</td></tr><tr><td>67</td><td>Customer_67</td><td>Hyderabad</td><td>Gujarat</td><td>India</td><td>2023-03-06</td><td>false</td><td>2023</td><td>4212</td><td>2024-06-24</td><td>661.2479378049328</td><td>Pending</td><td>3</td><td>6</td></tr><tr><td>66</td><td>Customer_66</td><td>Pune</td><td>Tamil Nadu</td><td>India</td><td>2023-12-02</td><td>true</td><td>2023</td><td>4326</td><td>2024-01-25</td><td>215.5741182591156</td><td>Shipped</td><td>12</td><td>1</td></tr><tr><td>96</td><td>Customer_96</td><td>Ahmedabad</td><td>Telangana</td><td>India</td><td>2023-06-22</td><td>false</td><td>2023</td><td>4355</td><td>2024-03-11</td><td>86.0140828214603</td><td>Delivered</td><td>6</td><td>3</td></tr><tr><td>79</td><td>Customer_79</td><td>Pune</td><td>Telangana</td><td>India</td><td>2023-02-06</td><td>true</td><td>2023</td><td>4529</td><td>2024-06-12</td><td>570.8457528404176</td><td>Cancelled</td><td>2</td><td>6</td></tr><tr><td>50</td><td>Customer_50</td><td>Kolkata</td><td>Tamil Nadu</td><td>India</td><td>2023-09-10</td><td>true</td><td>2023</td><td>4674</td><td>2024-12-14</td><td>489.2634145439673</td><td>Cancelled</td><td>9</td><td>12</td></tr><tr><td>26</td><td>Customer_26</td><td>Delhi</td><td>Delhi</td><td>India</td><td>2023-03-22</td><td>true</td><td>2023</td><td>4828</td><td>2024-02-12</td><td>747.061129639986</td><td>Pending</td><td>3</td><td>2</td></tr><tr><td>6</td><td>Customer_6</td><td>Pune</td><td>Delhi</td><td>India</td><td>2023-08-29</td><td>false</td><td>2023</td><td>4985</td><td>2024-02-08</td><td>588.0820373117768</td><td>Cancelled</td><td>8</td><td>2</td></tr><tr><td>40</td><td>Customer_40</td><td>Pune</td><td>West Bengal</td><td>India</td><td>2023-01-15</td><td>false</td><td>2023</td><td>5207</td><td>2024-01-13</td><td>494.48027019761446</td><td>Delivered</td><td>1</td><td>1</td></tr><tr><td>90</td><td>Customer_90</td><td>Ahmedabad</td><td>Gujarat</td><td>India</td><td>2023-02-15</td><td>false</td><td>2023</td><td>5337</td><td>2024-09-01</td><td>78.55205070691302</td><td>Cancelled</td><td>2</td><td>9</td></tr><tr><td>76</td><td>Customer_76</td><td>Kolkata</td><td>Delhi</td><td>India</td><td>2023-01-08</td><td>false</td><td>2023</td><td>5684</td><td>2024-09-15</td><td>684.7820270202418</td><td>Cancelled</td><td>1</td><td>9</td></tr><tr><td>93</td><td>Customer_93</td><td>Pune</td><td>West Bengal</td><td>India</td><td>2023-09-30</td><td>false</td><td>2023</td><td>6511</td><td>2024-05-11</td><td>351.8781784153389</td><td>Delivered</td><td>9</td><td>5</td></tr><tr><td>95</td><td>Customer_95</td><td>Mumbai</td><td>Karnataka</td><td>India</td><td>2023-09-29</td><td>true</td><td>2023</td><td>6584</td><td>2024-04-04</td><td>13.0205715049573</td><td>Pending</td><td>9</td><td>4</td></tr><tr><td>78</td><td>Customer_78</td><td>Bangalore</td><td>Maharashtra</td><td>India</td><td>2023-03-31</td><td>false</td><td>2023</td><td>6606</td><td>2024-10-07</td><td>263.8754446578965</td><td>Cancelled</td><td>3</td><td>10</td></tr><tr><td>47</td><td>Customer_47</td><td>Kolkata</td><td>Telangana</td><td>India</td><td>2023-11-03</td><td>true</td><td>2023</td><td>6690</td><td>2024-03-29</td><td>657.702095781501</td><td>Shipped</td><td>11</td><td>3</td></tr><tr><td>53</td><td>Customer_53</td><td>Pune</td><td>Telangana</td><td>India</td><td>2023-08-27</td><td>true</td><td>2023</td><td>6998</td><td>2024-01-06</td><td>972.4425845781869</td><td>Delivered</td><td>8</td><td>1</td></tr><tr><td>11</td><td>Customer_11</td><td>Delhi</td><td>West Bengal</td><td>India</td><td>2023-08-02</td><td>false</td><td>2023</td><td>7231</td><td>2024-08-23</td><td>509.40916812986535</td><td>Cancelled</td><td>8</td><td>8</td></tr><tr><td>23</td><td>Customer_23</td><td>Chennai</td><td>Maharashtra</td><td>India</td><td>2023-02-15</td><td>false</td><td>2023</td><td>8073</td><td>2024-02-23</td><td>382.69014640821445</td><td>Delivered</td><td>2</td><td>2</td></tr><tr><td>19</td><td>Customer_19</td><td>Kolkata</td><td>Gujarat</td><td>India</td><td>2023-02-05</td><td>true</td><td>2023</td><td>8212</td><td>2024-04-08</td><td>530.2554401488511</td><td>Delivered</td><td>2</td><td>4</td></tr><tr><td>3</td><td>Customer_3</td><td>Bangalore</td><td>Karnataka</td><td>India</td><td>2023-10-17</td><td>false</td><td>2023</td><td>8728</td><td>2024-07-19</td><td>939.6745764247852</td><td>Cancelled</td><td>10</td><td>7</td></tr><tr><td>72</td><td>Customer_72</td><td>Mumbai</td><td>Maharashtra</td><td>India</td><td>2023-09-20</td><td>false</td><td>2023</td><td>8926</td><td>2024-09-12</td><td>901.1970447035138</td><td>Shipped</td><td>9</td><td>9</td></tr><tr><td>18</td><td>Customer_18</td><td>Pune</td><td>Delhi</td><td>India</td><td>2023-10-04</td><td>true</td><td>2023</td><td>9031</td><td>2024-08-28</td><td>35.21990207136415</td><td>Cancelled</td><td>10</td><td>8</td></tr><tr><td>41</td><td>Customer_41</td><td>Bangalore</td><td>Karnataka</td><td>India</td><td>2023-03-28</td><td>false</td><td>2023</td><td>9216</td><td>2024-04-05</td><td>321.24433111303813</td><td>Delivered</td><td>3</td><td>4</td></tr><tr><td>58</td><td>Customer_58</td><td>Kolkata</td><td>Tamil Nadu</td><td>India</td><td>2023-07-31</td><td>true</td><td>2023</td><td>9231</td><td>2024-04-21</td><td>591.6683325994453</td><td>Shipped</td><td>7</td><td>4</td></tr><tr><td>8</td><td>Customer_8</td><td>Pune</td><td>Karnataka</td><td>India</td><td>2023-06-22</td><td>true</td><td>2023</td><td>9347</td><td>2024-07-04</td><td>655.1633814544429</td><td>Delivered</td><td>6</td><td>7</td></tr><tr><td>30</td><td>Customer_30</td><td>Hyderabad</td><td>Karnataka</td><td>India</td><td>2023-01-28</td><td>false</td><td>2023</td><td>9437</td><td>2024-01-16</td><td>669.9188907506281</td><td>Cancelled</td><td>1</td><td>1</td></tr><tr><td>49</td><td>Customer_49</td><td>Delhi</td><td>Gujarat</td><td>India</td><td>2023-04-16</td><td>true</td><td>2023</td><td>9487</td><td>2024-03-02</td><td>633.9422490759596</td><td>Shipped</td><td>4</td><td>3</td></tr><tr><td>90</td><td>Customer_90</td><td>Ahmedabad</td><td>Gujarat</td><td>India</td><td>2023-02-15</td><td>false</td><td>2023</td><td>10406</td><td>2024-11-15</td><td>384.8267402291951</td><td>Pending</td><td>2</td><td>11</td></tr><tr><td>71</td><td>Customer_71</td><td>Mumbai</td><td>West Bengal</td><td>India</td><td>2023-12-19</td><td>true</td><td>2023</td><td>10466</td><td>2024-05-11</td><td>108.6467046903065</td><td>Cancelled</td><td>12</td><td>5</td></tr><tr><td>60</td><td>Customer_60</td><td>Mumbai</td><td>Tamil Nadu</td><td>India</td><td>2023-12-01</td><td>true</td><td>2023</td><td>10481</td><td>2024-02-04</td><td>204.32755534510557</td><td>Shipped</td><td>12</td><td>2</td></tr><tr><td>57</td><td>Customer_57</td><td>Kolkata</td><td>Gujarat</td><td>India</td><td>2023-08-06</td><td>false</td><td>2023</td><td>10518</td><td>2024-11-22</td><td>194.61582901670573</td><td>Shipped</td><td>8</td><td>11</td></tr><tr><td>67</td><td>Customer_67</td><td>Hyderabad</td><td>Gujarat</td><td>India</td><td>2023-03-06</td><td>false</td><td>2023</td><td>10681</td><td>2024-12-30</td><td>979.359529341072</td><td>Pending</td><td>3</td><td>12</td></tr><tr><td>2</td><td>Customer_2</td><td>Hyderabad</td><td>Gujarat</td><td>India</td><td>2023-10-27</td><td>true</td><td>2023</td><td>10691</td><td>2024-06-16</td><td>215.94174086119202</td><td>Pending</td><td>10</td><td>6</td></tr><tr><td>40</td><td>Customer_40</td><td>Pune</td><td>West Bengal</td><td>India</td><td>2023-01-15</td><td>false</td><td>2023</td><td>10737</td><td>2024-10-17</td><td>928.6966377177035</td><td>Shipped</td><td>1</td><td>10</td></tr><tr><td>19</td><td>Customer_19</td><td>Kolkata</td><td>Gujarat</td><td>India</td><td>2023-02-05</td><td>true</td><td>2023</td><td>10824</td><td>2024-05-21</td><td>249.4702116847077</td><td>Shipped</td><td>2</td><td>5</td></tr><tr><td>38</td><td>Customer_38</td><td>Bangalore</td><td>Telangana</td><td>India</td><td>2023-09-26</td><td>false</td><td>2023</td><td>11469</td><td>2024-06-25</td><td>496.87148049101927</td><td>Pending</td><td>9</td><td>6</td></tr><tr><td>28</td><td>Customer_28</td><td>Hyderabad</td><td>Maharashtra</td><td>India</td><td>2023-05-31</td><td>true</td><td>2023</td><td>11574</td><td>2024-11-30</td><td>124.02501786357907</td><td>Pending</td><td>5</td><td>11</td></tr><tr><td>27</td><td>Customer_27</td><td>Ahmedabad</td><td>Gujarat</td><td>India</td><td>2023-07-08</td><td>true</td><td>2023</td><td>11803</td><td>2024-04-30</td><td>689.967743381435</td><td>Shipped</td><td>7</td><td>4</td></tr><tr><td>73</td><td>Customer_73</td><td>Chennai</td><td>West Bengal</td><td>India</td><td>2023-03-01</td><td>false</td><td>2023</td><td>12241</td><td>2024-02-20</td><td>275.82222229459563</td><td>Shipped</td><td>3</td><td>2</td></tr><tr><td>85</td><td>Customer_85</td><td>Chennai</td><td>Gujarat</td><td>India</td><td>2023-07-30</td><td>true</td><td>2023</td><td>12285</td><td>2024-01-09</td><td>954.1298333153007</td><td>Delivered</td><td>7</td><td>1</td></tr><tr><td>88</td><td>Customer_88</td><td>Pune</td><td>Telangana</td><td>India</td><td>2023-06-15</td><td>true</td><td>2023</td><td>12297</td><td>2024-12-25</td><td>248.19872980091273</td><td>Delivered</td><td>6</td><td>12</td></tr><tr><td>34</td><td>Customer_34</td><td>Kolkata</td><td>Gujarat</td><td>India</td><td>2023-11-01</td><td>true</td><td>2023</td><td>12425</td><td>2024-08-22</td><td>876.3120853159711</td><td>Pending</td><td>11</td><td>8</td></tr><tr><td>19</td><td>Customer_19</td><td>Kolkata</td><td>Gujarat</td><td>India</td><td>2023-02-05</td><td>true</td><td>2023</td><td>12558</td><td>2024-05-24</td><td>588.8976596708053</td><td>Shipped</td><td>2</td><td>5</td></tr><tr><td>71</td><td>Customer_71</td><td>Mumbai</td><td>West Bengal</td><td>India</td><td>2023-12-19</td><td>true</td><td>2023</td><td>12562</td><td>2024-06-06</td><td>509.11824324282446</td><td>Cancelled</td><td>12</td><td>6</td></tr><tr><td>22</td><td>Customer_22</td><td>Chennai</td><td>West Bengal</td><td>India</td><td>2023-08-03</td><td>true</td><td>2023</td><td>12743</td><td>2024-02-10</td><td>399.79892618056283</td><td>Cancelled</td><td>8</td><td>2</td></tr><tr><td>61</td><td>Customer_61</td><td>Hyderabad</td><td>Delhi</td><td>India</td><td>2023-12-31</td><td>false</td><td>2023</td><td>13508</td><td>2024-05-29</td><td>492.68701639641296</td><td>Pending</td><td>12</td><td>5</td></tr><tr><td>28</td><td>Customer_28</td><td>Hyderabad</td><td>Maharashtra</td><td>India</td><td>2023-05-31</td><td>true</td><td>2023</td><td>13686</td><td>2024-10-14</td><td>404.77352642408835</td><td>Pending</td><td>5</td><td>10</td></tr><tr><td>15</td><td>Customer_15</td><td>Mumbai</td><td>Gujarat</td><td>India</td><td>2023-03-02</td><td>true</td><td>2023</td><td>13947</td><td>2024-09-24</td><td>225.73778750915903</td><td>Cancelled</td><td>3</td><td>9</td></tr><tr><td>55</td><td>Customer_55</td><td>Pune</td><td>Telangana</td><td>India</td><td>2023-12-07</td><td>true</td><td>2023</td><td>14069</td><td>2024-06-09</td><td>723.7932958572533</td><td>Pending</td><td>12</td><td>6</td></tr><tr><td>71</td><td>Customer_71</td><td>Mumbai</td><td>West Bengal</td><td>India</td><td>2023-12-19</td><td>true</td><td>2023</td><td>14271</td><td>2024-03-25</td><td>461.41481015916975</td><td>Shipped</td><td>12</td><td>3</td></tr><tr><td>10</td><td>Customer_10</td><td>Pune</td><td>Gujarat</td><td>India</td><td>2023-08-05</td><td>true</td><td>2023</td><td>14646</td><td>2024-08-27</td><td>26.360585366312066</td><td>Cancelled</td><td>8</td><td>8</td></tr><tr><td>18</td><td>Customer_18</td><td>Pune</td><td>Delhi</td><td>India</td><td>2023-10-04</td><td>true</td><td>2023</td><td>14717</td><td>2024-09-21</td><td>440.16719617331097</td><td>Pending</td><td>10</td><td>9</td></tr><tr><td>14</td><td>Customer_14</td><td>Hyderabad</td><td>Tamil Nadu</td><td>India</td><td>2023-02-07</td><td>false</td><td>2023</td><td>15330</td><td>2024-09-21</td><td>179.37778808110735</td><td>Cancelled</td><td>2</td><td>9</td></tr><tr><td>6</td><td>Customer_6</td><td>Pune</td><td>Delhi</td><td>India</td><td>2023-08-29</td><td>false</td><td>2023</td><td>15577</td><td>2024-01-23</td><td>890.4308117188951</td><td>Pending</td><td>8</td><td>1</td></tr><tr><td>66</td><td>Customer_66</td><td>Pune</td><td>Tamil Nadu</td><td>India</td><td>2023-12-02</td><td>true</td><td>2023</td><td>15777</td><td>2024-02-20</td><td>775.2418628662435</td><td>Delivered</td><td>12</td><td>2</td></tr><tr><td>11</td><td>Customer_11</td><td>Delhi</td><td>West Bengal</td><td>India</td><td>2023-08-02</td><td>false</td><td>2023</td><td>16117</td><td>2024-12-08</td><td>492.1126441103496</td><td>Cancelled</td><td>8</td><td>12</td></tr><tr><td>45</td><td>Customer_45</td><td>Chennai</td><td>Maharashtra</td><td>India</td><td>2023-11-12</td><td>false</td><td>2023</td><td>16295</td><td>2024-11-28</td><td>618.2780086372243</td><td>Pending</td><td>11</td><td>11</td></tr><tr><td>79</td><td>Customer_79</td><td>Pune</td><td>Telangana</td><td>India</td><td>2023-02-06</td><td>true</td><td>2023</td><td>16539</td><td>2024-12-25</td><td>932.1756578938423</td><td>Shipped</td><td>2</td><td>12</td></tr><tr><td>21</td><td>Customer_21</td><td>Bangalore</td><td>Tamil Nadu</td><td>India</td><td>2023-05-30</td><td>true</td><td>2023</td><td>16621</td><td>2024-05-15</td><td>470.41024730482366</td><td>Cancelled</td><td>5</td><td>5</td></tr><tr><td>61</td><td>Customer_61</td><td>Hyderabad</td><td>Delhi</td><td>India</td><td>2023-12-31</td><td>false</td><td>2023</td><td>17058</td><td>2024-08-25</td><td>605.9567290878284</td><td>Pending</td><td>12</td><td>8</td></tr><tr><td>46</td><td>Customer_46</td><td>Kolkata</td><td>Delhi</td><td>India</td><td>2023-09-23</td><td>true</td><td>2023</td><td>17219</td><td>2024-05-30</td><td>999.592553819927</td><td>Cancelled</td><td>9</td><td>5</td></tr><tr><td>61</td><td>Customer_61</td><td>Hyderabad</td><td>Delhi</td><td>India</td><td>2023-12-31</td><td>false</td><td>2023</td><td>17283</td><td>2024-01-21</td><td>171.91694722937515</td><td>Pending</td><td>12</td><td>1</td></tr><tr><td>4</td><td>Customer_4</td><td>Ahmedabad</td><td>Karnataka</td><td>India</td><td>2023-03-14</td><td>false</td><td>2023</td><td>17286</td><td>2024-03-23</td><td>19.279629205930526</td><td>Cancelled</td><td>3</td><td>3</td></tr><tr><td>77</td><td>Customer_77</td><td>Pune</td><td>Telangana</td><td>India</td><td>2023-12-07</td><td>true</td><td>2023</td><td>17365</td><td>2024-12-07</td><td>548.091524479706</td><td>Pending</td><td>12</td><td>12</td></tr><tr><td>38</td><td>Customer_38</td><td>Bangalore</td><td>Telangana</td><td>India</td><td>2023-09-26</td><td>false</td><td>2023</td><td>17641</td><td>2024-05-18</td><td>218.2818109884808</td><td>Cancelled</td><td>9</td><td>5</td></tr></tbody></table></div>"
      ]
     },
     "metadata": {
      "application/vnd.databricks.v1+output": {
       "addedWidgets": {},
       "aggData": [],
       "aggError": "",
       "aggOverflow": false,
       "aggSchema": [],
       "aggSeriesLimitReached": false,
       "aggType": "",
       "arguments": {},
       "columnCustomDisplayInfos": {},
       "data": [
        [
         68,
         "Customer_68",
         "Kolkata",
         "Gujarat",
         "India",
         "2023-07-17",
         false,
         2023,
         10,
         "2024-02-01",
         250.90701173471632,
         "Pending",
         7,
         2
        ],
        [
         7,
         "Customer_7",
         "Ahmedabad",
         "West Bengal",
         "India",
         "2023-12-28",
         true,
         2023,
         139,
         "2024-07-10",
         546.6384666319628,
         "Delivered",
         12,
         7
        ],
        [
         18,
         "Customer_18",
         "Pune",
         "Delhi",
         "India",
         "2023-10-04",
         true,
         2023,
         258,
         "2024-04-12",
         554.3177613815784,
         "Cancelled",
         10,
         4
        ],
        [
         17,
         "Customer_17",
         "Hyderabad",
         "West Bengal",
         "India",
         "2023-08-21",
         false,
         2023,
         295,
         "2024-08-28",
         420.56545757666987,
         "Cancelled",
         8,
         8
        ],
        [
         38,
         "Customer_38",
         "Bangalore",
         "Telangana",
         "India",
         "2023-09-26",
         false,
         2023,
         415,
         "2024-12-30",
         90.01453303201006,
         "Cancelled",
         9,
         12
        ],
        [
         47,
         "Customer_47",
         "Kolkata",
         "Telangana",
         "India",
         "2023-11-03",
         true,
         2023,
         418,
         "2024-01-22",
         972.4383759704513,
         "Pending",
         11,
         1
        ],
        [
         95,
         "Customer_95",
         "Mumbai",
         "Karnataka",
         "India",
         "2023-09-29",
         true,
         2023,
         861,
         "2024-11-03",
         694.9897335718198,
         "Shipped",
         9,
         11
        ],
        [
         38,
         "Customer_38",
         "Bangalore",
         "Telangana",
         "India",
         "2023-09-26",
         false,
         2023,
         930,
         "2024-07-20",
         107.49581322437737,
         "Shipped",
         9,
         7
        ],
        [
         26,
         "Customer_26",
         "Delhi",
         "Delhi",
         "India",
         "2023-03-22",
         true,
         2023,
         990,
         "2024-03-09",
         473.5525685203318,
         "Pending",
         3,
         3
        ],
        [
         40,
         "Customer_40",
         "Pune",
         "West Bengal",
         "India",
         "2023-01-15",
         false,
         2023,
         1273,
         "2024-12-01",
         49.75964706636384,
         "Cancelled",
         1,
         12
        ],
        [
         33,
         "Customer_33",
         "Mumbai",
         "West Bengal",
         "India",
         "2023-09-11",
         false,
         2023,
         1323,
         "2024-12-24",
         804.1219373031034,
         "Delivered",
         9,
         12
        ],
        [
         60,
         "Customer_60",
         "Mumbai",
         "Tamil Nadu",
         "India",
         "2023-12-01",
         true,
         2023,
         1371,
         "2024-04-05",
         57.26730920831517,
         "Cancelled",
         12,
         4
        ],
        [
         88,
         "Customer_88",
         "Pune",
         "Telangana",
         "India",
         "2023-06-15",
         true,
         2023,
         1447,
         "2024-08-26",
         195.81827600017834,
         "Pending",
         6,
         8
        ],
        [
         91,
         "Customer_91",
         "Mumbai",
         "Telangana",
         "India",
         "2023-01-02",
         false,
         2023,
         1567,
         "2024-01-25",
         90.73002793436947,
         "Delivered",
         1,
         1
        ],
        [
         11,
         "Customer_11",
         "Delhi",
         "West Bengal",
         "India",
         "2023-08-02",
         false,
         2023,
         1759,
         "2024-02-20",
         155.8514507722548,
         "Pending",
         8,
         2
        ],
        [
         29,
         "Customer_29",
         "Delhi",
         "Gujarat",
         "India",
         "2023-05-28",
         false,
         2023,
         1992,
         "2024-05-18",
         13.06685865215596,
         "Shipped",
         5,
         5
        ],
        [
         24,
         "Customer_24",
         "Kolkata",
         "Karnataka",
         "India",
         "2023-03-06",
         false,
         2023,
         2222,
         "2024-09-29",
         613.4205507312591,
         "Shipped",
         3,
         9
        ],
        [
         4,
         "Customer_4",
         "Ahmedabad",
         "Karnataka",
         "India",
         "2023-03-14",
         false,
         2023,
         2228,
         "2024-11-23",
         512.2135003327533,
         "Delivered",
         3,
         11
        ],
        [
         75,
         "Customer_75",
         "Hyderabad",
         "Telangana",
         "India",
         "2023-11-05",
         true,
         2023,
         2528,
         "2024-05-03",
         479.58346578271323,
         "Delivered",
         11,
         5
        ],
        [
         61,
         "Customer_61",
         "Hyderabad",
         "Delhi",
         "India",
         "2023-12-31",
         false,
         2023,
         2610,
         "2024-07-09",
         535.0245790483864,
         "Delivered",
         12,
         7
        ],
        [
         49,
         "Customer_49",
         "Delhi",
         "Gujarat",
         "India",
         "2023-04-16",
         true,
         2023,
         2790,
         "2024-11-09",
         978.8309331372757,
         "Cancelled",
         4,
         11
        ],
        [
         2,
         "Customer_2",
         "Hyderabad",
         "Gujarat",
         "India",
         "2023-10-27",
         true,
         2023,
         2859,
         "2024-10-12",
         345.01571719332037,
         "Cancelled",
         10,
         10
        ],
        [
         95,
         "Customer_95",
         "Mumbai",
         "Karnataka",
         "India",
         "2023-09-29",
         true,
         2023,
         3572,
         "2024-12-05",
         842.5969495728151,
         "Cancelled",
         9,
         12
        ],
        [
         93,
         "Customer_93",
         "Pune",
         "West Bengal",
         "India",
         "2023-09-30",
         false,
         2023,
         3600,
         "2024-05-29",
         536.6403474690279,
         "Pending",
         9,
         5
        ],
        [
         11,
         "Customer_11",
         "Delhi",
         "West Bengal",
         "India",
         "2023-08-02",
         false,
         2023,
         3774,
         "2024-06-11",
         512.8523795606843,
         "Delivered",
         8,
         6
        ],
        [
         10,
         "Customer_10",
         "Pune",
         "Gujarat",
         "India",
         "2023-08-05",
         true,
         2023,
         4061,
         "2024-12-10",
         961.1187353643182,
         "Cancelled",
         8,
         12
        ],
        [
         32,
         "Customer_32",
         "Delhi",
         "Telangana",
         "India",
         "2023-05-15",
         false,
         2023,
         4108,
         "2024-07-09",
         451.49709067715577,
         "Delivered",
         5,
         7
        ],
        [
         67,
         "Customer_67",
         "Hyderabad",
         "Gujarat",
         "India",
         "2023-03-06",
         false,
         2023,
         4212,
         "2024-06-24",
         661.2479378049328,
         "Pending",
         3,
         6
        ],
        [
         66,
         "Customer_66",
         "Pune",
         "Tamil Nadu",
         "India",
         "2023-12-02",
         true,
         2023,
         4326,
         "2024-01-25",
         215.5741182591156,
         "Shipped",
         12,
         1
        ],
        [
         96,
         "Customer_96",
         "Ahmedabad",
         "Telangana",
         "India",
         "2023-06-22",
         false,
         2023,
         4355,
         "2024-03-11",
         86.0140828214603,
         "Delivered",
         6,
         3
        ],
        [
         79,
         "Customer_79",
         "Pune",
         "Telangana",
         "India",
         "2023-02-06",
         true,
         2023,
         4529,
         "2024-06-12",
         570.8457528404176,
         "Cancelled",
         2,
         6
        ],
        [
         50,
         "Customer_50",
         "Kolkata",
         "Tamil Nadu",
         "India",
         "2023-09-10",
         true,
         2023,
         4674,
         "2024-12-14",
         489.2634145439673,
         "Cancelled",
         9,
         12
        ],
        [
         26,
         "Customer_26",
         "Delhi",
         "Delhi",
         "India",
         "2023-03-22",
         true,
         2023,
         4828,
         "2024-02-12",
         747.061129639986,
         "Pending",
         3,
         2
        ],
        [
         6,
         "Customer_6",
         "Pune",
         "Delhi",
         "India",
         "2023-08-29",
         false,
         2023,
         4985,
         "2024-02-08",
         588.0820373117768,
         "Cancelled",
         8,
         2
        ],
        [
         40,
         "Customer_40",
         "Pune",
         "West Bengal",
         "India",
         "2023-01-15",
         false,
         2023,
         5207,
         "2024-01-13",
         494.48027019761446,
         "Delivered",
         1,
         1
        ],
        [
         90,
         "Customer_90",
         "Ahmedabad",
         "Gujarat",
         "India",
         "2023-02-15",
         false,
         2023,
         5337,
         "2024-09-01",
         78.55205070691302,
         "Cancelled",
         2,
         9
        ],
        [
         76,
         "Customer_76",
         "Kolkata",
         "Delhi",
         "India",
         "2023-01-08",
         false,
         2023,
         5684,
         "2024-09-15",
         684.7820270202418,
         "Cancelled",
         1,
         9
        ],
        [
         93,
         "Customer_93",
         "Pune",
         "West Bengal",
         "India",
         "2023-09-30",
         false,
         2023,
         6511,
         "2024-05-11",
         351.8781784153389,
         "Delivered",
         9,
         5
        ],
        [
         95,
         "Customer_95",
         "Mumbai",
         "Karnataka",
         "India",
         "2023-09-29",
         true,
         2023,
         6584,
         "2024-04-04",
         13.0205715049573,
         "Pending",
         9,
         4
        ],
        [
         78,
         "Customer_78",
         "Bangalore",
         "Maharashtra",
         "India",
         "2023-03-31",
         false,
         2023,
         6606,
         "2024-10-07",
         263.8754446578965,
         "Cancelled",
         3,
         10
        ],
        [
         47,
         "Customer_47",
         "Kolkata",
         "Telangana",
         "India",
         "2023-11-03",
         true,
         2023,
         6690,
         "2024-03-29",
         657.702095781501,
         "Shipped",
         11,
         3
        ],
        [
         53,
         "Customer_53",
         "Pune",
         "Telangana",
         "India",
         "2023-08-27",
         true,
         2023,
         6998,
         "2024-01-06",
         972.4425845781869,
         "Delivered",
         8,
         1
        ],
        [
         11,
         "Customer_11",
         "Delhi",
         "West Bengal",
         "India",
         "2023-08-02",
         false,
         2023,
         7231,
         "2024-08-23",
         509.40916812986535,
         "Cancelled",
         8,
         8
        ],
        [
         23,
         "Customer_23",
         "Chennai",
         "Maharashtra",
         "India",
         "2023-02-15",
         false,
         2023,
         8073,
         "2024-02-23",
         382.69014640821445,
         "Delivered",
         2,
         2
        ],
        [
         19,
         "Customer_19",
         "Kolkata",
         "Gujarat",
         "India",
         "2023-02-05",
         true,
         2023,
         8212,
         "2024-04-08",
         530.2554401488511,
         "Delivered",
         2,
         4
        ],
        [
         3,
         "Customer_3",
         "Bangalore",
         "Karnataka",
         "India",
         "2023-10-17",
         false,
         2023,
         8728,
         "2024-07-19",
         939.6745764247852,
         "Cancelled",
         10,
         7
        ],
        [
         72,
         "Customer_72",
         "Mumbai",
         "Maharashtra",
         "India",
         "2023-09-20",
         false,
         2023,
         8926,
         "2024-09-12",
         901.1970447035138,
         "Shipped",
         9,
         9
        ],
        [
         18,
         "Customer_18",
         "Pune",
         "Delhi",
         "India",
         "2023-10-04",
         true,
         2023,
         9031,
         "2024-08-28",
         35.21990207136415,
         "Cancelled",
         10,
         8
        ],
        [
         41,
         "Customer_41",
         "Bangalore",
         "Karnataka",
         "India",
         "2023-03-28",
         false,
         2023,
         9216,
         "2024-04-05",
         321.24433111303813,
         "Delivered",
         3,
         4
        ],
        [
         58,
         "Customer_58",
         "Kolkata",
         "Tamil Nadu",
         "India",
         "2023-07-31",
         true,
         2023,
         9231,
         "2024-04-21",
         591.6683325994453,
         "Shipped",
         7,
         4
        ],
        [
         8,
         "Customer_8",
         "Pune",
         "Karnataka",
         "India",
         "2023-06-22",
         true,
         2023,
         9347,
         "2024-07-04",
         655.1633814544429,
         "Delivered",
         6,
         7
        ],
        [
         30,
         "Customer_30",
         "Hyderabad",
         "Karnataka",
         "India",
         "2023-01-28",
         false,
         2023,
         9437,
         "2024-01-16",
         669.9188907506281,
         "Cancelled",
         1,
         1
        ],
        [
         49,
         "Customer_49",
         "Delhi",
         "Gujarat",
         "India",
         "2023-04-16",
         true,
         2023,
         9487,
         "2024-03-02",
         633.9422490759596,
         "Shipped",
         4,
         3
        ],
        [
         90,
         "Customer_90",
         "Ahmedabad",
         "Gujarat",
         "India",
         "2023-02-15",
         false,
         2023,
         10406,
         "2024-11-15",
         384.8267402291951,
         "Pending",
         2,
         11
        ],
        [
         71,
         "Customer_71",
         "Mumbai",
         "West Bengal",
         "India",
         "2023-12-19",
         true,
         2023,
         10466,
         "2024-05-11",
         108.6467046903065,
         "Cancelled",
         12,
         5
        ],
        [
         60,
         "Customer_60",
         "Mumbai",
         "Tamil Nadu",
         "India",
         "2023-12-01",
         true,
         2023,
         10481,
         "2024-02-04",
         204.32755534510557,
         "Shipped",
         12,
         2
        ],
        [
         57,
         "Customer_57",
         "Kolkata",
         "Gujarat",
         "India",
         "2023-08-06",
         false,
         2023,
         10518,
         "2024-11-22",
         194.61582901670573,
         "Shipped",
         8,
         11
        ],
        [
         67,
         "Customer_67",
         "Hyderabad",
         "Gujarat",
         "India",
         "2023-03-06",
         false,
         2023,
         10681,
         "2024-12-30",
         979.359529341072,
         "Pending",
         3,
         12
        ],
        [
         2,
         "Customer_2",
         "Hyderabad",
         "Gujarat",
         "India",
         "2023-10-27",
         true,
         2023,
         10691,
         "2024-06-16",
         215.94174086119202,
         "Pending",
         10,
         6
        ],
        [
         40,
         "Customer_40",
         "Pune",
         "West Bengal",
         "India",
         "2023-01-15",
         false,
         2023,
         10737,
         "2024-10-17",
         928.6966377177035,
         "Shipped",
         1,
         10
        ],
        [
         19,
         "Customer_19",
         "Kolkata",
         "Gujarat",
         "India",
         "2023-02-05",
         true,
         2023,
         10824,
         "2024-05-21",
         249.4702116847077,
         "Shipped",
         2,
         5
        ],
        [
         38,
         "Customer_38",
         "Bangalore",
         "Telangana",
         "India",
         "2023-09-26",
         false,
         2023,
         11469,
         "2024-06-25",
         496.87148049101927,
         "Pending",
         9,
         6
        ],
        [
         28,
         "Customer_28",
         "Hyderabad",
         "Maharashtra",
         "India",
         "2023-05-31",
         true,
         2023,
         11574,
         "2024-11-30",
         124.02501786357907,
         "Pending",
         5,
         11
        ],
        [
         27,
         "Customer_27",
         "Ahmedabad",
         "Gujarat",
         "India",
         "2023-07-08",
         true,
         2023,
         11803,
         "2024-04-30",
         689.967743381435,
         "Shipped",
         7,
         4
        ],
        [
         73,
         "Customer_73",
         "Chennai",
         "West Bengal",
         "India",
         "2023-03-01",
         false,
         2023,
         12241,
         "2024-02-20",
         275.82222229459563,
         "Shipped",
         3,
         2
        ],
        [
         85,
         "Customer_85",
         "Chennai",
         "Gujarat",
         "India",
         "2023-07-30",
         true,
         2023,
         12285,
         "2024-01-09",
         954.1298333153007,
         "Delivered",
         7,
         1
        ],
        [
         88,
         "Customer_88",
         "Pune",
         "Telangana",
         "India",
         "2023-06-15",
         true,
         2023,
         12297,
         "2024-12-25",
         248.19872980091273,
         "Delivered",
         6,
         12
        ],
        [
         34,
         "Customer_34",
         "Kolkata",
         "Gujarat",
         "India",
         "2023-11-01",
         true,
         2023,
         12425,
         "2024-08-22",
         876.3120853159711,
         "Pending",
         11,
         8
        ],
        [
         19,
         "Customer_19",
         "Kolkata",
         "Gujarat",
         "India",
         "2023-02-05",
         true,
         2023,
         12558,
         "2024-05-24",
         588.8976596708053,
         "Shipped",
         2,
         5
        ],
        [
         71,
         "Customer_71",
         "Mumbai",
         "West Bengal",
         "India",
         "2023-12-19",
         true,
         2023,
         12562,
         "2024-06-06",
         509.11824324282446,
         "Cancelled",
         12,
         6
        ],
        [
         22,
         "Customer_22",
         "Chennai",
         "West Bengal",
         "India",
         "2023-08-03",
         true,
         2023,
         12743,
         "2024-02-10",
         399.79892618056283,
         "Cancelled",
         8,
         2
        ],
        [
         61,
         "Customer_61",
         "Hyderabad",
         "Delhi",
         "India",
         "2023-12-31",
         false,
         2023,
         13508,
         "2024-05-29",
         492.68701639641296,
         "Pending",
         12,
         5
        ],
        [
         28,
         "Customer_28",
         "Hyderabad",
         "Maharashtra",
         "India",
         "2023-05-31",
         true,
         2023,
         13686,
         "2024-10-14",
         404.77352642408835,
         "Pending",
         5,
         10
        ],
        [
         15,
         "Customer_15",
         "Mumbai",
         "Gujarat",
         "India",
         "2023-03-02",
         true,
         2023,
         13947,
         "2024-09-24",
         225.73778750915903,
         "Cancelled",
         3,
         9
        ],
        [
         55,
         "Customer_55",
         "Pune",
         "Telangana",
         "India",
         "2023-12-07",
         true,
         2023,
         14069,
         "2024-06-09",
         723.7932958572533,
         "Pending",
         12,
         6
        ],
        [
         71,
         "Customer_71",
         "Mumbai",
         "West Bengal",
         "India",
         "2023-12-19",
         true,
         2023,
         14271,
         "2024-03-25",
         461.41481015916975,
         "Shipped",
         12,
         3
        ],
        [
         10,
         "Customer_10",
         "Pune",
         "Gujarat",
         "India",
         "2023-08-05",
         true,
         2023,
         14646,
         "2024-08-27",
         26.360585366312066,
         "Cancelled",
         8,
         8
        ],
        [
         18,
         "Customer_18",
         "Pune",
         "Delhi",
         "India",
         "2023-10-04",
         true,
         2023,
         14717,
         "2024-09-21",
         440.16719617331097,
         "Pending",
         10,
         9
        ],
        [
         14,
         "Customer_14",
         "Hyderabad",
         "Tamil Nadu",
         "India",
         "2023-02-07",
         false,
         2023,
         15330,
         "2024-09-21",
         179.37778808110735,
         "Cancelled",
         2,
         9
        ],
        [
         6,
         "Customer_6",
         "Pune",
         "Delhi",
         "India",
         "2023-08-29",
         false,
         2023,
         15577,
         "2024-01-23",
         890.4308117188951,
         "Pending",
         8,
         1
        ],
        [
         66,
         "Customer_66",
         "Pune",
         "Tamil Nadu",
         "India",
         "2023-12-02",
         true,
         2023,
         15777,
         "2024-02-20",
         775.2418628662435,
         "Delivered",
         12,
         2
        ],
        [
         11,
         "Customer_11",
         "Delhi",
         "West Bengal",
         "India",
         "2023-08-02",
         false,
         2023,
         16117,
         "2024-12-08",
         492.1126441103496,
         "Cancelled",
         8,
         12
        ],
        [
         45,
         "Customer_45",
         "Chennai",
         "Maharashtra",
         "India",
         "2023-11-12",
         false,
         2023,
         16295,
         "2024-11-28",
         618.2780086372243,
         "Pending",
         11,
         11
        ],
        [
         79,
         "Customer_79",
         "Pune",
         "Telangana",
         "India",
         "2023-02-06",
         true,
         2023,
         16539,
         "2024-12-25",
         932.1756578938423,
         "Shipped",
         2,
         12
        ],
        [
         21,
         "Customer_21",
         "Bangalore",
         "Tamil Nadu",
         "India",
         "2023-05-30",
         true,
         2023,
         16621,
         "2024-05-15",
         470.41024730482366,
         "Cancelled",
         5,
         5
        ],
        [
         61,
         "Customer_61",
         "Hyderabad",
         "Delhi",
         "India",
         "2023-12-31",
         false,
         2023,
         17058,
         "2024-08-25",
         605.9567290878284,
         "Pending",
         12,
         8
        ],
        [
         46,
         "Customer_46",
         "Kolkata",
         "Delhi",
         "India",
         "2023-09-23",
         true,
         2023,
         17219,
         "2024-05-30",
         999.592553819927,
         "Cancelled",
         9,
         5
        ],
        [
         61,
         "Customer_61",
         "Hyderabad",
         "Delhi",
         "India",
         "2023-12-31",
         false,
         2023,
         17283,
         "2024-01-21",
         171.91694722937515,
         "Pending",
         12,
         1
        ],
        [
         4,
         "Customer_4",
         "Ahmedabad",
         "Karnataka",
         "India",
         "2023-03-14",
         false,
         2023,
         17286,
         "2024-03-23",
         19.279629205930526,
         "Cancelled",
         3,
         3
        ],
        [
         77,
         "Customer_77",
         "Pune",
         "Telangana",
         "India",
         "2023-12-07",
         true,
         2023,
         17365,
         "2024-12-07",
         548.091524479706,
         "Pending",
         12,
         12
        ],
        [
         38,
         "Customer_38",
         "Bangalore",
         "Telangana",
         "India",
         "2023-09-26",
         false,
         2023,
         17641,
         "2024-05-18",
         218.2818109884808,
         "Cancelled",
         9,
         5
        ]
       ],
       "datasetInfos": [],
       "dbfsResultPath": null,
       "isJsonSchema": true,
       "metadata": {},
       "overflow": false,
       "plotOptions": {
        "customPlotOptions": {},
        "displayType": "table",
        "pivotAggregation": null,
        "pivotColumns": null,
        "xColumns": null,
        "yColumns": null
       },
       "removedWidgets": [],
       "schema": [
        {
         "metadata": "{}",
         "name": "customer_id",
         "type": "\"integer\""
        },
        {
         "metadata": "{}",
         "name": "name",
         "type": "\"string\""
        },
        {
         "metadata": "{}",
         "name": "city",
         "type": "\"string\""
        },
        {
         "metadata": "{}",
         "name": "state",
         "type": "\"string\""
        },
        {
         "metadata": "{}",
         "name": "country",
         "type": "\"string\""
        },
        {
         "metadata": "{}",
         "name": "registration_date",
         "type": "\"date\""
        },
        {
         "metadata": "{}",
         "name": "is_active",
         "type": "\"boolean\""
        },
        {
         "metadata": "{}",
         "name": "registration_year",
         "type": "\"integer\""
        },
        {
         "metadata": "{}",
         "name": "order_id",
         "type": "\"integer\""
        },
        {
         "metadata": "{\"__detected_date_formats\":\"yyyy-M-d\"}",
         "name": "order_date",
         "type": "\"date\""
        },
        {
         "metadata": "{}",
         "name": "total_amount",
         "type": "\"double\""
        },
        {
         "metadata": "{}",
         "name": "status",
         "type": "\"string\""
        },
        {
         "metadata": "{}",
         "name": "registration_month",
         "type": "\"integer\""
        },
        {
         "metadata": "{}",
         "name": "order_month",
         "type": "\"integer\""
        }
       ],
       "type": "table"
      }
     },
     "output_type": "display_data"
    }
   ],
   "source": [
    "customers_orders_df=customers_orders_df.withColumn(\"order_month\",month(\"order_date\"))\n",
    "customers_orders_df.display()"
   ]
  },
  {
   "cell_type": "code",
   "execution_count": 0,
   "metadata": {
    "application/vnd.databricks.v1+cell": {
     "cellMetadata": {
      "byteLimit": 2048000,
      "rowLimit": 10000
     },
     "inputWidgets": {},
     "nuid": "b0173fb0-6a10-4d83-a4ea-4ff50c347e26",
     "showTitle": false,
     "tableResultSettingsMap": {},
     "title": ""
    }
   },
   "outputs": [
    {
     "output_type": "stream",
     "name": "stdout",
     "output_type": "stream",
     "text": [
      "+-----------+-----+\n|order_month|count|\n+-----------+-----+\n|         12|   11|\n|         11|    7|\n|         10|    4|\n|          9|    7|\n|          8|    7|\n|          7|    6|\n|          6|    7|\n|          5|   11|\n|          4|    7|\n|          3|    6|\n|          2|    9|\n|          1|    9|\n+-----------+-----+\n\n"
     ]
    }
   ],
   "source": [
    "#ordersByMonth\n",
    "\n",
    "orders_by_month=customers_orders_df.groupBy(\"order_month\").count().orderBy(col('order_month').desc())\n",
    "orders_by_month.show()"
   ]
  },
  {
   "cell_type": "code",
   "execution_count": 0,
   "metadata": {
    "application/vnd.databricks.v1+cell": {
     "cellMetadata": {},
     "inputWidgets": {},
     "nuid": "bd679377-7480-4888-b4fc-14711ac71ee2",
     "showTitle": false,
     "tableResultSettingsMap": {},
     "title": ""
    }
   },
   "outputs": [],
   "source": [
    "#Find customers with high order frequency but low total spend\n",
    "customer_spend_vs_orders=customers_order_count."
   ]
  }
 ],
 "metadata": {
  "application/vnd.databricks.v1+notebook": {
   "computePreferences": null,
   "dashboards": [],
   "environmentMetadata": {
    "base_environment": "",
    "environment_version": "2"
   },
   "inputWidgetPreferences": null,
   "language": "python",
   "notebookMetadata": {
    "pythonIndentUnit": 4
   },
   "notebookName": "spark-project",
   "widgets": {}
  },
  "language_info": {
   "name": "python"
  }
 },
 "nbformat": 4,
 "nbformat_minor": 0
}